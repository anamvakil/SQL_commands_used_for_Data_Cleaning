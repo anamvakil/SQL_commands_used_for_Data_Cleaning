{
 "cells": [
  {
   "cell_type": "code",
   "id": "initial_id",
   "metadata": {
    "collapsed": true,
    "ExecuteTime": {
     "end_time": "2024-12-04T20:50:42.463426Z",
     "start_time": "2024-12-04T20:50:39.766378Z"
    }
   },
   "source": "!pip3 install pandas seaborn matplotlib",
   "outputs": [
    {
     "name": "stdout",
     "output_type": "stream",
     "text": [
      "Defaulting to user installation because normal site-packages is not writeable\r\n",
      "Requirement already satisfied: pandas in /home/huzaifavakil/.local/lib/python3.13/site-packages (2.2.3)\r\n",
      "Requirement already satisfied: seaborn in /home/huzaifavakil/.local/lib/python3.13/site-packages (0.13.2)\r\n",
      "Requirement already satisfied: matplotlib in /home/huzaifavakil/.local/lib/python3.13/site-packages (3.9.3)\r\n",
      "Requirement already satisfied: numpy>=1.26.0 in /home/huzaifavakil/.local/lib/python3.13/site-packages (from pandas) (2.1.3)\r\n",
      "Requirement already satisfied: python-dateutil>=2.8.2 in /usr/lib/python3.13/site-packages (from pandas) (2.8.2)\r\n",
      "Requirement already satisfied: pytz>=2020.1 in /home/huzaifavakil/.local/lib/python3.13/site-packages (from pandas) (2024.2)\r\n",
      "Requirement already satisfied: tzdata>=2022.7 in /home/huzaifavakil/.local/lib/python3.13/site-packages (from pandas) (2024.2)\r\n",
      "Requirement already satisfied: contourpy>=1.0.1 in /home/huzaifavakil/.local/lib/python3.13/site-packages (from matplotlib) (1.3.1)\r\n",
      "Requirement already satisfied: cycler>=0.10 in /home/huzaifavakil/.local/lib/python3.13/site-packages (from matplotlib) (0.12.1)\r\n",
      "Requirement already satisfied: fonttools>=4.22.0 in /home/huzaifavakil/.local/lib/python3.13/site-packages (from matplotlib) (4.55.1)\r\n",
      "Requirement already satisfied: kiwisolver>=1.3.1 in /home/huzaifavakil/.local/lib/python3.13/site-packages (from matplotlib) (1.4.7)\r\n",
      "Requirement already satisfied: packaging>=20.0 in /usr/lib/python3.13/site-packages (from matplotlib) (24.1)\r\n",
      "Requirement already satisfied: pillow>=8 in /usr/lib64/python3.13/site-packages (from matplotlib) (11.0.0)\r\n",
      "Requirement already satisfied: pyparsing>=2.3.1 in /home/huzaifavakil/.local/lib/python3.13/site-packages (from matplotlib) (3.2.0)\r\n",
      "Requirement already satisfied: six>=1.5 in /usr/lib/python3.13/site-packages (from python-dateutil>=2.8.2->pandas) (1.16.0)\r\n",
      "\r\n",
      "\u001B[1m[\u001B[0m\u001B[34;49mnotice\u001B[0m\u001B[1;39;49m]\u001B[0m\u001B[39;49m A new release of pip is available: \u001B[0m\u001B[31;49m24.2\u001B[0m\u001B[39;49m -> \u001B[0m\u001B[32;49m24.3.1\u001B[0m\r\n",
      "\u001B[1m[\u001B[0m\u001B[34;49mnotice\u001B[0m\u001B[1;39;49m]\u001B[0m\u001B[39;49m To update, run: \u001B[0m\u001B[32;49mpython -m pip install --upgrade pip\u001B[0m\r\n"
     ]
    }
   ],
   "execution_count": 3
  },
  {
   "metadata": {
    "ExecuteTime": {
     "end_time": "2024-12-04T20:51:02.393004Z",
     "start_time": "2024-12-04T20:50:58.182400Z"
    }
   },
   "cell_type": "code",
   "source": [
    "import pandas as pd\n",
    "import seaborn as sns\n",
    "import matplotlib.pyplot as plt"
   ],
   "id": "4e237a267859675a",
   "outputs": [],
   "execution_count": 4
  },
  {
   "metadata": {
    "ExecuteTime": {
     "end_time": "2024-12-04T20:51:13.980088Z",
     "start_time": "2024-12-04T20:51:13.973194Z"
    }
   },
   "cell_type": "code",
   "source": [
    "data = {\n",
    "    'Category': ['A', 'A', 'A', 'B', 'B', 'B', 'C', 'C', 'C'],\n",
    "    'Values': [10, 15, 14, 20, 21, 19, 30, 35, 33]\n",
    "}\n",
    "df = pd.DataFrame(data)"
   ],
   "id": "e09e247aa4ca6af7",
   "outputs": [],
   "execution_count": 5
  },
  {
   "metadata": {
    "ExecuteTime": {
     "end_time": "2024-12-04T20:52:13.322234Z",
     "start_time": "2024-12-04T20:52:13.138316Z"
    }
   },
   "cell_type": "code",
   "source": [
    "sns.boxplot(x='Category', y='Values', data=df)\n",
    "plt.title(\"Boxplot Example\")\n",
    "plt.show()"
   ],
   "id": "6ae3b1491be54cf1",
   "outputs": [
    {
     "data": {
      "text/plain": [
       "<Figure size 640x480 with 1 Axes>"
      ],
      "image/png": "[encoded data removed]"
     },
     "metadata": {},
     "output_type": "display_data"
    }
   ],
   "execution_count": 11
  },
  {
   "metadata": {
    "ExecuteTime": {
     "end_time": "2024-12-04T20:52:01.678674Z",
     "start_time": "2024-12-04T20:52:01.674321Z"
    }
   },
   "cell_type": "code",
   "source": "",
   "id": "4921f56469432e07",
   "outputs": [],
   "execution_count": null
  },
  {
   "metadata": {},
   "cell_type": "code",
   "outputs": [],
   "execution_count": null,
   "source": "",
   "id": "2597e9994f611bef"
  }
 ],
 "metadata": {
  "kernelspec": {
   "display_name": "Python 3",
   "language": "python",
   "name": "python3"
  },
  "language_info": {
   "codemirror_mode": {
    "name": "ipython",
    "version": 2
   },
   "file_extension": ".py",
   "mimetype": "text/x-python",
   "name": "python",
   "nbconvert_exporter": "python",
   "pygments_lexer": "ipython2",
   "version": "2.7.6"
  }
 },
 "nbformat": 4,
 "nbformat_minor": 5
}
